{
 "cells": [
  {
   "cell_type": "markdown",
   "id": "6ed666fa-dc8a-4619-ae38-f9a3ec4aee54",
   "metadata": {},
   "source": [
    "# Parser for Govinfo"
   ]
  },
  {
   "cell_type": "code",
   "execution_count": 1,
   "id": "e526aff4-092b-45bf-b442-9978dc9dbc97",
   "metadata": {},
   "outputs": [],
   "source": [
    "import pandas as pd\n",
    "import requests\n",
    "import os"
   ]
  },
  {
   "cell_type": "markdown",
   "id": "21816cac-d31a-4d7b-b1cd-0221e9aa1174",
   "metadata": {},
   "source": [
    "## Save the search result from `https://www.govinfo.gov/#advanced` as a `csv` in the same directory as this notebook. Put the file name below. \n",
    "The website allows the searched result to be saved with a maximum of 1000 rows. No documentation mentions the limit of file access. \n",
    "## Put the api_key below"
   ]
  },
  {
   "cell_type": "code",
   "execution_count": 2,
   "id": "b4ee862b-c7cd-4895-ae7a-2a36f7196489",
   "metadata": {},
   "outputs": [],
   "source": [
    "file_name = 'example.csv'\n",
    "api_key = '?api_key=3uSouSh3uQc1CdnNbbNc46y5JI88OmtEHLaaNAYl'"
   ]
  },
  {
   "cell_type": "code",
   "execution_count": 3,
   "id": "819a58fb-20db-4f22-b71b-b04fe6f02d12",
   "metadata": {},
   "outputs": [],
   "source": [
    "search_result = pd.read_csv(file_name, skiprows = [0,1])\n",
    "# search_result"
   ]
  },
  {
   "cell_type": "code",
   "execution_count": 4,
   "id": "1c71fa25-b3e8-4ac1-9e4f-b895fe24ae60",
   "metadata": {},
   "outputs": [],
   "source": [
    "def read_write_url(url, file_name, file_type):\n",
    "    url_api = url + api_key\n",
    "    r = requests.get(url_api, allow_redirects=True)\n",
    "    with open(file_name + '.' + file_type, 'wb') as f:\n",
    "        f.write(r.content)"
   ]
  },
  {
   "cell_type": "markdown",
   "id": "a64b2a05-2bec-4da3-9511-c66362f32111",
   "metadata": {},
   "source": [
    "## The file will be saved as either `txt` or `xml`, with the name of its index in the csv. \n",
    "For each file, the available types are different. The .pdf files are ignored; .htm files are plain text thus saved as .txt; .xml files needs to be further parsed. "
   ]
  },
  {
   "cell_type": "code",
   "execution_count": 7,
   "id": "817d64af-be67-4db5-b388-e343edaf55ac",
   "metadata": {},
   "outputs": [
    {
     "name": "stdout",
     "output_type": "stream",
     "text": [
      "row 0 completed\n",
      "row 1 completed\n",
      "row 2 completed\n",
      "row 3 completed\n",
      "row 4 completed\n",
      "row 5 completed\n",
      "row 6 completed\n",
      "row 7 completed\n",
      "row 8 completed\n",
      "row 9 completed\n",
      "row 10 completed\n",
      "row 11 completed\n"
     ]
    }
   ],
   "source": [
    "for i, row in search_result.iterrows():\n",
    "    # print(pd.isna(row['xmlLink']))\n",
    "    if not pd.isna(row['htmlLink']):\n",
    "        read_write_url(row['htmlLink'], str(i), 'txt')\n",
    "    elif not pd.isna(row['xmlLink']):\n",
    "        read_write_url(row['xmlLink'], str(i), 'xml')\n",
    "        \n",
    "    elif str(row['otherLink1']).endswith('htm'):\n",
    "        read_write_url(row['otherLink1'], str(i), 'txt')\n",
    "    elif str(row['otherLink1']).endswith('xml'):\n",
    "        read_write_url(row['otherLink1'], str(i), 'xml')\n",
    "        \n",
    "    elif str(row['otherLink2']).endswith('htm'):\n",
    "        read_write_url(row['otherLink2'], str(i), 'txt')\n",
    "    elif str(row['otherLink2']).endswith('xml'):\n",
    "        read_write_url(row['otherLink2'], str(i), 'xml')\n",
    "    \n",
    "    print('row ' + str(i) + ' completed')"
   ]
  }
 ],
 "metadata": {
  "kernelspec": {
   "display_name": "Python 3 (ipykernel)",
   "language": "python",
   "name": "python3"
  },
  "language_info": {
   "codemirror_mode": {
    "name": "ipython",
    "version": 3
   },
   "file_extension": ".py",
   "mimetype": "text/x-python",
   "name": "python",
   "nbconvert_exporter": "python",
   "pygments_lexer": "ipython3",
   "version": "3.10.0"
  }
 },
 "nbformat": 4,
 "nbformat_minor": 5
}
